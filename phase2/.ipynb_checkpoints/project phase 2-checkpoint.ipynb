{
 "cells": [
  {
   "cell_type": "code",
   "execution_count": 1,
   "metadata": {},
   "outputs": [],
   "source": [
    "import gurobipy as grb\n",
    "import pandas as pd\n",
    "import numpy as np\n",
    "import datetime\n",
    "from datetime import time\n",
    "from datetime import timedelta\n",
    "import math\n",
    "\n",
    "capacity=pd.read_excel(\"Marshall_Room_Capacity_Chart_3classroom.xlsx\")\n",
    "course_enrollment=pd.read_excel(\"Marshall_Course_Enrollment_1516_1617.xlsx\")\n",
    "#section_info=pd.read_excel(\"section information.xlsx\")"
   ]
  },
  {
   "cell_type": "code",
   "execution_count": null,
   "metadata": {},
   "outputs": [],
   "source": []
  },
  {
   "cell_type": "markdown",
   "metadata": {},
   "source": [
    "# Extra data from original dataset"
   ]
  },
  {
   "cell_type": "code",
   "execution_count": 2,
   "metadata": {},
   "outputs": [],
   "source": [
    "# choose 20153 term as sample\n",
    "data=course_enrollment.loc[course_enrollment.loc[:,\"Term\"]==20153,(\"Course\",\"Section\",\"First Days\",\"First Begin Time\",\"First End Time\",\"First Room\")]\n",
    "data.columns=[\"Course\",\"Section\",\"FirstDays\",\"FirstBeginTime\",\"FirstEndTime\",\"FirstRoom\"]\n",
    "# we only use those M/T/W/TH/F/MW/TTH\n",
    "data=data[(data.FirstDays==\"M\")|(data.FirstDays==\"T\")|(data.FirstDays==\"W\")|(data.FirstDays==\"TH\")|(data.FirstDays==\"F\")|(data.FirstDays==\"MW\")|(data.FirstDays==\"TTH\")]\n",
    "data=data[(data.FirstRoom!=\"ONLINE\")&(data.FirstRoom!=\"DEN@Viterbi\")]\n",
    "data=data.loc[:,(\"Course\",\"Section\",\"FirstDays\",\"FirstBeginTime\",\"FirstEndTime\")]"
   ]
  },
  {
   "cell_type": "code",
   "execution_count": 3,
   "metadata": {},
   "outputs": [],
   "source": [
    "# timelength\n",
    "timelength=[]\n",
    "for i in data.index:\n",
    "    #print data.loc[i,:]\n",
    "    time1=data.loc[i,\"FirstEndTime\"]\n",
    "    time2=data.loc[i,\"FirstBeginTime\"]\n",
    "    minutediff=((time1.hour*60+time1.minute)-(time2.hour*60+time2.minute)+10)\n",
    "    halfhour=minutediff/30\n",
    "    if minutediff%30>0:\n",
    "        halfhour+=1\n",
    "    timelength.append(halfhour)"
   ]
  },
  {
   "cell_type": "code",
   "execution_count": 4,
   "metadata": {},
   "outputs": [],
   "source": [
    "# pattern\n",
    "pattern=[]\n",
    "for i in data.index:\n",
    "    day=data.loc[i,\"FirstDays\"]\n",
    "    if (day==\"M\") or (day==\"T\") or (day==\"W\") or (day==\"TH\") or (day==\"F\"):\n",
    "        #print day\n",
    "        pattern.append(1)\n",
    "    elif (day==\"MW\") or (day==\"TTH\"):\n",
    "        #print day\n",
    "        pattern.append(2)"
   ]
  },
  {
   "cell_type": "markdown",
   "metadata": {},
   "source": [
    "Use the \"section_info=section_info[section_info.timelength<=2]\" below to control the size of dataset (change value of 2), i only tried small one"
   ]
  },
  {
   "cell_type": "code",
   "execution_count": 10,
   "metadata": {},
   "outputs": [
    {
     "name": "stdout",
     "output_type": "stream",
     "text": [
      "3\n",
      "129\n"
     ]
    }
   ],
   "source": [
    "# build section_info table\n",
    "section_info=pd.DataFrame({\"course\":data[\"Course\"],\"section\":data[\"Section\"],\"pattern\":pattern,\"timelength\":timelength})\n",
    "# we only use those timelength less than 4 hours\n",
    "section_info=section_info[section_info.timelength<=3]\n",
    "print max(section_info[\"timelength\"])\n",
    "print len(section_info)\n",
    "#print section_info.index\n",
    "# for change the index, do not delete \n",
    "section_info.index=range(len(section_info))\n",
    "#print section_info.index\n",
    "numofsections=len(section_info)"
   ]
  },
  {
   "cell_type": "code",
   "execution_count": 6,
   "metadata": {},
   "outputs": [],
   "source": [
    "section_info=section_info.loc[range(25),:]"
   ]
  },
  {
   "cell_type": "code",
   "execution_count": 7,
   "metadata": {},
   "outputs": [
    {
     "data": {
      "text/html": [
       "<div>\n",
       "<style scoped>\n",
       "    .dataframe tbody tr th:only-of-type {\n",
       "        vertical-align: middle;\n",
       "    }\n",
       "\n",
       "    .dataframe tbody tr th {\n",
       "        vertical-align: top;\n",
       "    }\n",
       "\n",
       "    .dataframe thead th {\n",
       "        text-align: right;\n",
       "    }\n",
       "</style>\n",
       "<table border=\"1\" class=\"dataframe\">\n",
       "  <thead>\n",
       "    <tr style=\"text-align: right;\">\n",
       "      <th></th>\n",
       "      <th>course</th>\n",
       "      <th>pattern</th>\n",
       "      <th>section</th>\n",
       "      <th>timelength</th>\n",
       "    </tr>\n",
       "  </thead>\n",
       "  <tbody>\n",
       "    <tr>\n",
       "      <th>0</th>\n",
       "      <td>ACCT-430</td>\n",
       "      <td>1</td>\n",
       "      <td>14147</td>\n",
       "      <td>3</td>\n",
       "    </tr>\n",
       "    <tr>\n",
       "      <th>1</th>\n",
       "      <td>ACCT-528</td>\n",
       "      <td>1</td>\n",
       "      <td>14201</td>\n",
       "      <td>3</td>\n",
       "    </tr>\n",
       "    <tr>\n",
       "      <th>2</th>\n",
       "      <td>ACCT-546</td>\n",
       "      <td>1</td>\n",
       "      <td>14206</td>\n",
       "      <td>3</td>\n",
       "    </tr>\n",
       "    <tr>\n",
       "      <th>3</th>\n",
       "      <td>ACCT-546</td>\n",
       "      <td>1</td>\n",
       "      <td>14207</td>\n",
       "      <td>3</td>\n",
       "    </tr>\n",
       "    <tr>\n",
       "      <th>4</th>\n",
       "      <td>ACCT-547</td>\n",
       "      <td>2</td>\n",
       "      <td>14209</td>\n",
       "      <td>3</td>\n",
       "    </tr>\n",
       "    <tr>\n",
       "      <th>5</th>\n",
       "      <td>ACCT-549</td>\n",
       "      <td>2</td>\n",
       "      <td>14216</td>\n",
       "      <td>3</td>\n",
       "    </tr>\n",
       "    <tr>\n",
       "      <th>6</th>\n",
       "      <td>ACCT-557</td>\n",
       "      <td>1</td>\n",
       "      <td>14224</td>\n",
       "      <td>3</td>\n",
       "    </tr>\n",
       "    <tr>\n",
       "      <th>7</th>\n",
       "      <td>ACCT-557</td>\n",
       "      <td>1</td>\n",
       "      <td>14223</td>\n",
       "      <td>3</td>\n",
       "    </tr>\n",
       "    <tr>\n",
       "      <th>8</th>\n",
       "      <td>ACCT-559</td>\n",
       "      <td>1</td>\n",
       "      <td>14227</td>\n",
       "      <td>3</td>\n",
       "    </tr>\n",
       "    <tr>\n",
       "      <th>9</th>\n",
       "      <td>ACCT-559</td>\n",
       "      <td>1</td>\n",
       "      <td>14229</td>\n",
       "      <td>3</td>\n",
       "    </tr>\n",
       "    <tr>\n",
       "      <th>10</th>\n",
       "      <td>ACCT-559</td>\n",
       "      <td>1</td>\n",
       "      <td>14228</td>\n",
       "      <td>3</td>\n",
       "    </tr>\n",
       "    <tr>\n",
       "      <th>11</th>\n",
       "      <td>ACCT-559</td>\n",
       "      <td>1</td>\n",
       "      <td>14226</td>\n",
       "      <td>3</td>\n",
       "    </tr>\n",
       "    <tr>\n",
       "      <th>12</th>\n",
       "      <td>ACCT-561T</td>\n",
       "      <td>2</td>\n",
       "      <td>14236</td>\n",
       "      <td>3</td>\n",
       "    </tr>\n",
       "    <tr>\n",
       "      <th>13</th>\n",
       "      <td>ACCT-568T</td>\n",
       "      <td>1</td>\n",
       "      <td>14246</td>\n",
       "      <td>3</td>\n",
       "    </tr>\n",
       "    <tr>\n",
       "      <th>14</th>\n",
       "      <td>ACCT-574</td>\n",
       "      <td>2</td>\n",
       "      <td>14260</td>\n",
       "      <td>3</td>\n",
       "    </tr>\n",
       "    <tr>\n",
       "      <th>15</th>\n",
       "      <td>ACCT-581</td>\n",
       "      <td>1</td>\n",
       "      <td>14278</td>\n",
       "      <td>3</td>\n",
       "    </tr>\n",
       "    <tr>\n",
       "      <th>16</th>\n",
       "      <td>ACCT-585</td>\n",
       "      <td>2</td>\n",
       "      <td>14294</td>\n",
       "      <td>3</td>\n",
       "    </tr>\n",
       "    <tr>\n",
       "      <th>17</th>\n",
       "      <td>ACCT-585</td>\n",
       "      <td>2</td>\n",
       "      <td>14293</td>\n",
       "      <td>3</td>\n",
       "    </tr>\n",
       "    <tr>\n",
       "      <th>18</th>\n",
       "      <td>ACCT-585</td>\n",
       "      <td>2</td>\n",
       "      <td>14295</td>\n",
       "      <td>3</td>\n",
       "    </tr>\n",
       "    <tr>\n",
       "      <th>19</th>\n",
       "      <td>ACCT-611</td>\n",
       "      <td>1</td>\n",
       "      <td>14321</td>\n",
       "      <td>3</td>\n",
       "    </tr>\n",
       "    <tr>\n",
       "      <th>20</th>\n",
       "      <td>ACCT-621</td>\n",
       "      <td>1</td>\n",
       "      <td>14301</td>\n",
       "      <td>3</td>\n",
       "    </tr>\n",
       "    <tr>\n",
       "      <th>21</th>\n",
       "      <td>BAEP-563</td>\n",
       "      <td>2</td>\n",
       "      <td>14419</td>\n",
       "      <td>3</td>\n",
       "    </tr>\n",
       "    <tr>\n",
       "      <th>22</th>\n",
       "      <td>BUAD-301</td>\n",
       "      <td>2</td>\n",
       "      <td>14643</td>\n",
       "      <td>3</td>\n",
       "    </tr>\n",
       "    <tr>\n",
       "      <th>23</th>\n",
       "      <td>BUAD-310</td>\n",
       "      <td>1</td>\n",
       "      <td>14925</td>\n",
       "      <td>3</td>\n",
       "    </tr>\n",
       "    <tr>\n",
       "      <th>24</th>\n",
       "      <td>BUAD-310</td>\n",
       "      <td>1</td>\n",
       "      <td>14924</td>\n",
       "      <td>3</td>\n",
       "    </tr>\n",
       "  </tbody>\n",
       "</table>\n",
       "</div>"
      ],
      "text/plain": [
       "       course  pattern  section  timelength\n",
       "0    ACCT-430        1    14147           3\n",
       "1    ACCT-528        1    14201           3\n",
       "2    ACCT-546        1    14206           3\n",
       "3    ACCT-546        1    14207           3\n",
       "4    ACCT-547        2    14209           3\n",
       "5    ACCT-549        2    14216           3\n",
       "6    ACCT-557        1    14224           3\n",
       "7    ACCT-557        1    14223           3\n",
       "8    ACCT-559        1    14227           3\n",
       "9    ACCT-559        1    14229           3\n",
       "10   ACCT-559        1    14228           3\n",
       "11   ACCT-559        1    14226           3\n",
       "12  ACCT-561T        2    14236           3\n",
       "13  ACCT-568T        1    14246           3\n",
       "14   ACCT-574        2    14260           3\n",
       "15   ACCT-581        1    14278           3\n",
       "16   ACCT-585        2    14294           3\n",
       "17   ACCT-585        2    14293           3\n",
       "18   ACCT-585        2    14295           3\n",
       "19   ACCT-611        1    14321           3\n",
       "20   ACCT-621        1    14301           3\n",
       "21   BAEP-563        2    14419           3\n",
       "22   BUAD-301        2    14643           3\n",
       "23   BUAD-310        1    14925           3\n",
       "24   BUAD-310        1    14924           3"
      ]
     },
     "execution_count": 7,
     "metadata": {},
     "output_type": "execute_result"
    }
   ],
   "source": [
    "section_info"
   ]
  },
  {
   "cell_type": "markdown",
   "metadata": {},
   "source": [
    "# Build variables"
   ]
  },
  {
   "cell_type": "code",
   "execution_count": 8,
   "metadata": {},
   "outputs": [],
   "source": [
    "# What we need to extract from data\n",
    "# prediction about student registeration for every section\n",
    "# how many section we need to schedule\n",
    "# the pattern, time length of each section\n",
    "# classroom capacity\n",
    "\n",
    "# Variables\n",
    "# course name\n",
    "C={}\n",
    "index=0\n",
    "for i in section_info[\"section\"]:\n",
    "    C[i]=section_info.loc[section_info.loc[:,\"section\"]==i,\"course\"].get(index)\n",
    "    index+=1\n",
    "# section of course\n",
    "I=section_info[\"section\"]\n",
    "# classroom\n",
    "J=capacity[\"Room\"]\n",
    "# pattern of session (less than catagories in origional dataset)\n",
    "P=[\"Monday\",\"Tuesday\",\"Wednesday\",\"Thursday\",\"Friday\"]\n",
    "P=pd.Series(i for i in P)\n",
    "# start time of session (from 8:00am to 9:00pm,so the real classtime is between 8:00am to 10:00pm)\n",
    "T1={}\n",
    "time = datetime.timedelta(hours=8,minutes=0, seconds=0)\n",
    "for i in range(27):\n",
    "    T1[str(time+timedelta(hours=0.5*i))]=i\n",
    "T=pd.Series(i for i in range(27))\n",
    "\n",
    "# students' registeration prediction\n",
    "student={}\n",
    "for i in I:\n",
    "    sum1=sum(course_enrollment.loc[course_enrollment.loc[:,\"Section\"]==i,\"Reg Count\"])\n",
    "    len1=len(course_enrollment.loc[course_enrollment.loc[:,\"Section\"]==i,\"Reg Count\"])\n",
    "    student[i]=round(sum1/len1)\n",
    "#student=pd.Series(i for i in student)\n",
    "\n",
    "# seat\n",
    "seat={}\n",
    "for index,row in capacity.iterrows():\n",
    "    seat[row[\"Room\"]]=row[\"Size\"]\n",
    "#seat=pd.Series(i for i in seat)\n",
    "    \n",
    "# pattern of each section\n",
    "PS={}\n",
    "index=0\n",
    "for i in I:\n",
    "    PS[i]=section_info.loc[section_info.loc[:,\"section\"]==i,\"pattern\"].get(index)\n",
    "    index+=1\n",
    "#PS=pd.Series(i for i in PS)\n",
    "    \n",
    "# timelength of each section\n",
    "TS={}\n",
    "index=0\n",
    "for i in I:\n",
    "    TS[i]=section_info.loc[section_info.loc[:,\"section\"]==i,\"timelength\"].get(index)\n",
    "    index+=1\n",
    "#TS=pd.Series(i for i in TS)"
   ]
  },
  {
   "cell_type": "code",
   "execution_count": 9,
   "metadata": {},
   "outputs": [
    {
     "data": {
      "text/plain": [
       "{14147: 104.0,\n",
       " 14201: 30.0,\n",
       " 14206: 28.0,\n",
       " 14207: 34.0,\n",
       " 14209: 32.0,\n",
       " 14216: 38.0,\n",
       " 14223: 26.0,\n",
       " 14224: 25.0,\n",
       " 14226: 16.0,\n",
       " 14227: 16.0,\n",
       " 14228: 28.0,\n",
       " 14229: 7.0,\n",
       " 14236: 22.0,\n",
       " 14246: 24.0,\n",
       " 14260: 34.0,\n",
       " 14278: 32.0,\n",
       " 14293: 21.0,\n",
       " 14294: 20.0,\n",
       " 14295: 29.0,\n",
       " 14301: 10.0,\n",
       " 14321: 11.0,\n",
       " 14419: 38.0,\n",
       " 14643: 44.0,\n",
       " 14924: 29.0,\n",
       " 14925: 22.0}"
      ]
     },
     "execution_count": 9,
     "metadata": {},
     "output_type": "execute_result"
    }
   ],
   "source": [
    "student"
   ]
  },
  {
   "cell_type": "markdown",
   "metadata": {},
   "source": [
    "# Model and Object"
   ]
  },
  {
   "cell_type": "code",
   "execution_count": 11,
   "metadata": {},
   "outputs": [],
   "source": [
    "# Building model\n",
    "mod=grb.Model()\n",
    "\n",
    "# Decision Variable\n",
    "X={}\n",
    "for i in I:\n",
    "    for j in J:\n",
    "        for p in P:\n",
    "             for t in T:\n",
    "                    X[i,j,p,t]=mod.addVar(vtype=grb.GRB.BINARY, name='x[{0},{1},{2},{3}]'.format(i,j,p,t))\n",
    "\n",
    "# Objective\n",
    "# As i set the constraint1 below, so the section with 2 or 3 sessions will have higher weight here\n",
    "# but if i do not set constraint1, we cannot promise other sections will not take the vacancy\n",
    "# for example, if DSO570 assigned to M/W 12:00, namely X[DSO570,j,\"MW\",12:00]=1, but X[i,j,\"M\",12:00]=0 and X[i,j,\"W\",12:00]=0, \n",
    "# so other courses maight be assign to this time too\n",
    "mod.setObjective(sum(X[i,j,p,t]*student[i]/seat[j] for i in I for j in J for p in P for t in T)/numofsections,sense=grb.GRB.MAXIMIZE)\n"
   ]
  },
  {
   "cell_type": "markdown",
   "metadata": {},
   "source": [
    "# Constraints"
   ]
  },
  {
   "cell_type": "code",
   "execution_count": 12,
   "metadata": {},
   "outputs": [],
   "source": [
    "# constraints\n",
    "I_twoday=pd.Series()\n",
    "I_oneday=pd.Series()\n",
    "for i in I:\n",
    "    if PS.get(i)==1:\n",
    "        I_oneday=I_oneday.append(pd.Series(i))\n",
    "    else:\n",
    "        I_twoday=I_twoday.append(pd.Series(i))"
   ]
  },
  {
   "cell_type": "code",
   "execution_count": 13,
   "metadata": {},
   "outputs": [],
   "source": [
    "# constraint2\n",
    "# for X[A course,j,t,p]=1 and if it is 1.5 hours, so for all i expect A course their X[i,j,t,p] should all be 0\n",
    "# So we have \n",
    "# (1) X[A course,j,p,t]+X[i,j,p,t]<=1\n",
    "# (2) X[A course,j,p,t]+X[i,j,p,t+1]<=1\n",
    "# (3) X[A course,j,p,t]+X[i,j,p,t+2]<=1\n",
    "# if it is 3 hours class so we have 6 constraints\n",
    "# in same time in same classroom in same day there is only one class, no conflicts\n",
    "# this constraint2 is only for those sections whose pattern is 1, which means they only have one session every week.\n",
    "constraint2={}\n",
    "num=0\n",
    "for i1 in I:\n",
    "    for j in J:\n",
    "        for t in T:\n",
    "            for p in P:\n",
    "                for i2 in I.drop(pd.Index(I).get_loc(i1)):\n",
    "                    constraint2[i1,j,p,t,i2,num]=mod.addConstr(X[i1,j,p,t]+X[i2,j,p,t]<=1)"
   ]
  },
  {
   "cell_type": "code",
   "execution_count": 14,
   "metadata": {},
   "outputs": [],
   "source": [
    "# in the next (number of required sessions)*2 timeslot all of X should be 0\n",
    "for i1 in I:\n",
    "    for j in J:\n",
    "        for t in T:\n",
    "            for p in P:\n",
    "                for i2 in I:\n",
    "                    timeslots=int(TS[i1])\n",
    "                    if t<=(27-timeslots): # avoid a situation that three hours course is assigned to 8:00 pm\n",
    "                        for num in range(1,timeslots):\n",
    "                            constraint2[i1,i2,t,num]=mod.addConstr(X[i1,j,p,t]+X[i2,j,p,t+num]<=1,name=\"\")"
   ]
  },
  {
   "cell_type": "code",
   "execution_count": 15,
   "metadata": {},
   "outputs": [],
   "source": [
    "# this constraint3 is only for those sections whose pattern is 2, which means they have two session every week.\n",
    "constraint3={}\n",
    "for i in I_twoday:\n",
    "    for j in J:\n",
    "        for t in T:\n",
    "            constraint3[i,j,\"M\",t]=mod.addConstr(X[i,j,\"Wednesday\",t]== X[i,j,\"Monday\",t],name=\"\") \n",
    "            # the section with two sessions must have same 0/1 in M and W\n",
    "            \n",
    "            constraint3[i,j,\"T\",t]=mod.addConstr(X[i,j,\"Thursday\",t] == X[i,j,\"Tuesday\",t],name=\"\") \n",
    "            # the section with two sessions must have same 0/1 in M and W"
   ]
  },
  {
   "cell_type": "code",
   "execution_count": 16,
   "metadata": {},
   "outputs": [],
   "source": [
    "# this constraint4 is to control that when we maximum the utilization rate,the number of student registered \n",
    "#for one section should less than the classroom capacity\n",
    "constraint4={}\n",
    "for i in I:\n",
    "    for j in J:\n",
    "        for p in P:\n",
    "             for t in T:\n",
    "                    constraint4[i,j,p,t]=mod.addConstr(X[i,j,p,t]*student[i]<=seat[j],name=\"\")"
   ]
  },
  {
   "cell_type": "code",
   "execution_count": 17,
   "metadata": {},
   "outputs": [],
   "source": [
    "# this constraint5 is to make sure that in all time in all classroom in all day, \n",
    "#for each section, sum(X)=required sessions\n",
    "constraint5={}\n",
    "for i in I:\n",
    "    constraint5[i]=mod.addConstr(sum(X[i,j,p,t] for j in J for p in P for t in T)==PS.get(i),name=\"\")    "
   ]
  },
  {
   "cell_type": "code",
   "execution_count": 18,
   "metadata": {},
   "outputs": [],
   "source": [
    "#constraint6: No Friday class for MW and TH section\n",
    "constraint6={}\n",
    "for i in I_twoday:\n",
    "    constraint6[i] = mod.addConstr(sum(X[i,j,\"Friday\",t] for j in J for t in T) == 0) "
   ]
  },
  {
   "cell_type": "code",
   "execution_count": 19,
   "metadata": {},
   "outputs": [],
   "source": [
    "#no class can last longer than the '9PM-9.30PM' block\n",
    "constraint7={}\n",
    "for i in I:\n",
    "    constraint7[i] = mod.addConstr(sum(X[i,j,p,T.max()-ts] for j in J for p in P for ts in range(int(TS[i]))) == 0)"
   ]
  },
  {
   "cell_type": "markdown",
   "metadata": {},
   "source": [
    "# Best solution output"
   ]
  },
  {
   "cell_type": "code",
   "execution_count": 20,
   "metadata": {
    "scrolled": true
   },
   "outputs": [
    {
     "name": "stdout",
     "output_type": "stream",
     "text": [
      "Optimize a model with 964503 rows, 13500 columns and 1931360 nonzeros\n",
      "Variable types: 0 continuous, 13500 integer (13500 binary)\n",
      "Coefficient statistics:\n",
      "  Matrix range     [1e+00, 1e+02]\n",
      "  Objective range  [2e-04, 2e-02]\n",
      "  Bounds range     [1e+00, 1e+00]\n",
      "  RHS range        [1e+00, 3e+02]\n",
      "Found heuristic solution: objective 0.0959201\n",
      "Presolve removed 960104 rows and 4500 columns (presolve time = 5s) ...\n",
      "Presolve removed 962367 rows and 7121 columns (presolve time = 11s) ...\n",
      "Presolve removed 962367 rows and 7121 columns\n",
      "Presolve time: 11.05s\n",
      "Presolved: 2136 rows, 6379 columns, 103207 nonzeros\n",
      "Found heuristic solution: objective 0.1562551\n",
      "Variable types: 0 continuous, 6379 integer (6379 binary)\n",
      "\n",
      "Root simplex log...\n",
      "\n",
      "Iteration    Objective       Primal Inf.    Dual Inf.      Time\n",
      "       0    4.3984677e+00   1.491800e+04   0.000000e+00     12s\n",
      "    1405    1.7254855e-01   0.000000e+00   0.000000e+00     12s\n",
      "\n",
      "Root relaxation: objective 1.725486e-01, 1405 iterations, 0.08 seconds\n",
      "\n",
      "    Nodes    |    Current Node    |     Objective Bounds      |     Work\n",
      " Expl Unexpl |  Obj  Depth IntInf | Incumbent    BestBd   Gap | It/Node Time\n",
      "\n",
      "*    0     0               0       0.1725486    0.17255  0.00%     -   11s\n",
      "\n",
      "Explored 0 nodes (1482 simplex iterations) in 11.79 seconds\n",
      "Thread count was 4 (of 4 available processors)\n",
      "\n",
      "Solution count 3: 0.172549 0.156255 0.112949 \n",
      "\n",
      "Optimal solution found (tolerance 1.00e-04)\n",
      "Best objective 1.725485520860e-01, best bound 1.725485520860e-01, gap 0.0000%\n",
      "('Optimal solution:', 0.1725485520859939)\n"
     ]
    }
   ],
   "source": [
    "mod.optimize()\n",
    "mod.setParam('OutputFlag',False)\n",
    "\n",
    "print('Optimal solution:',mod.ObjVal)"
   ]
  },
  {
   "cell_type": "code",
   "execution_count": 21,
   "metadata": {},
   "outputs": [],
   "source": [
    "# print to check result\n",
    "#for i in I:\n",
    " #   for j in J:\n",
    "  #      for p in P:\n",
    "   #         for t in T:\n",
    "    #            if X[i,j,p,t].x>0:\n",
    "     #               print(\"i \",i,\" j \",j,\" p \",p,\" t \",t,\" X[i,j,p,t] \",X[i,j,p,t].x,\" student[i] \",student[i],\" seat[j] \",seat[j],\" X[i,j,p,t]*student[i]/seat[j] \",X[i,j,p,t].x*student[i]/seat[j])"
   ]
  },
  {
   "cell_type": "code",
   "execution_count": 22,
   "metadata": {},
   "outputs": [
    {
     "name": "stdout",
     "output_type": "stream",
     "text": [
      "[u'ACC236', u'HOH1', u'HOH EDI']\n"
     ]
    }
   ],
   "source": [
    "# get the small subset of J that have classes in this classroom\n",
    "J1=[]\n",
    "for j in J:\n",
    "    if sum(X[i,j,p,t].x for i in I for p in P for t in T)>0:\n",
    "        J1.append(j)\n",
    "print J1"
   ]
  },
  {
   "cell_type": "code",
   "execution_count": 23,
   "metadata": {},
   "outputs": [],
   "source": [
    "# return a blank table\n",
    "def blanktable():\n",
    "    T1=[]\n",
    "    blank=[]\n",
    "    time = datetime.timedelta(hours=8,minutes=0, seconds=0)\n",
    "    for i in range(27):\n",
    "        T1.append(str(time+timedelta(hours=0.5*i)))\n",
    "        blank.append(\"\")\n",
    "    schedule=pd.DataFrame({\"# timeslot\": range(27),\n",
    "                           \"timeslot\":T1,\n",
    "                           \"Monday\":blank,\n",
    "                           \"Tuesday\":blank,\n",
    "                           \"Wednesday\":blank,\n",
    "                           \"Thursday\":blank,\n",
    "                           \"Friday\":blank})\n",
    "    sched_cols = ['# timeslot','timeslot','Monday','Tuesday','Wednesday','Thursday','Friday']\n",
    "    schedule = schedule[sched_cols]\n",
    "    schedule=schedule.set_index('# timeslot')\n",
    "    return schedule"
   ]
  },
  {
   "cell_type": "code",
   "execution_count": 24,
   "metadata": {},
   "outputs": [],
   "source": [
    "# put the optimal solution into our beautiful schedule table\n",
    "timetable={}\n",
    "for j in J1:\n",
    "    #print \"J is \"+j\n",
    "    #print \"schedule\"+j\n",
    "    schedule1=blanktable()\n",
    "    for i in I:\n",
    "        for p in P:\n",
    "            for t in T:\n",
    "                if X[i,j,p,t].x>0:\n",
    "                    for a in range(int(TS[i])):\n",
    "                        schedule1.loc[t+a,p]=C[i]+\" / \"+str(i)\n",
    "                        #print schedule1\n",
    "    timetable[\"schedule\"+j]=schedule1\n",
    "    #print \"timetable \"+\"schedule\"+j\n",
    "    #print timetable[\"schedule\"+j]"
   ]
  },
  {
   "cell_type": "code",
   "execution_count": 25,
   "metadata": {},
   "outputs": [],
   "source": [
    "output=pd.ExcelWriter(\"schedule_25_sections.xlsx\")\n",
    "for j in J:\n",
    "    if sum(X[i,j,p,t].x for i in I for p in P for t in T)>0:\n",
    "        timetable[\"schedule\"+j].to_excel(output,sheet_name=j,index=False)\n",
    "output.save()"
   ]
  },
  {
   "cell_type": "code",
   "execution_count": null,
   "metadata": {},
   "outputs": [],
   "source": []
  },
  {
   "cell_type": "code",
   "execution_count": null,
   "metadata": {},
   "outputs": [],
   "source": []
  },
  {
   "cell_type": "code",
   "execution_count": null,
   "metadata": {},
   "outputs": [],
   "source": []
  },
  {
   "cell_type": "code",
   "execution_count": null,
   "metadata": {},
   "outputs": [],
   "source": []
  }
 ],
 "metadata": {
  "kernelspec": {
   "display_name": "Python 2",
   "language": "python",
   "name": "python2"
  },
  "language_info": {
   "codemirror_mode": {
    "name": "ipython",
    "version": 2
   },
   "file_extension": ".py",
   "mimetype": "text/x-python",
   "name": "python",
   "nbconvert_exporter": "python",
   "pygments_lexer": "ipython2",
   "version": "2.7.14"
  }
 },
 "nbformat": 4,
 "nbformat_minor": 2
}
